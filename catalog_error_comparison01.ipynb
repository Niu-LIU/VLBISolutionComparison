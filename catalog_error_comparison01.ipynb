{
 "cells": [
  {
   "cell_type": "code",
   "execution_count": 12,
   "metadata": {},
   "outputs": [],
   "source": [
    "#!/usr/bin/env python3\n",
    "# -*- coding: utf-8 -*-\n",
    "# File name: catalog_error_comparison.py\n",
    "\"\"\"\n",
    "Created on Sun May 27 15:28:04 2018\n",
    "\n",
    "@author: Neo(liuniu@smail.nju.edu.cn)\n",
    "\n",
    "Plot the meadian formal error of various catalog.\n",
    "\n",
    "\"\"\"\n",
    "\n",
    "%matplotlib inline\n",
    "%config InlineBackend.figure_format = 'svg'\n",
    "\n",
    "# from astropy import units as u\n",
    "# from astropy.coordinates import SkyCoord\n",
    "from matplotlib import pyplot as plt\n",
    "# , cm as cm\n",
    "import numpy as np\n",
    "# from numpy import cos, deg2rad, sqrt\n",
    "# My modules\n",
    "from read_icrf1 import read_icrf1_pos\n",
    "from read_icrf2 import read_icrf2\n",
    "from read_sou import read_cat\n",
    "from read_GaiaDR2 import read_gaiadr2_iers_position\n",
    "from cross_match import list_crossmatch, pos_max_calc, \\\n",
    "    overall_err_calc, postional_difference_calc"
   ]
  },
  {
   "cell_type": "code",
   "execution_count": 13,
   "metadata": {},
   "outputs": [],
   "source": [
    "# ICRF1 catalog\n",
    "[icrf_name_i1, iers_name_i1,\n",
    " ra_i1, dec_i1, ra_error_i1, dec_error_i1, ra_dec_corr_i1, _] = read_icrf1_pos(\"../data/rsc95r01.dat\")\n",
    "\n",
    "# ellipe semi-major axis\n",
    "sig_pos_max_i1 = pos_max_calc(ra_error_i1, dec_error_i1, ra_dec_corr_i1)\n",
    "\n",
    "# overall formal uncertainty\n",
    "overall_err_i1 = overall_err_calc(ra_error_i1, dec_error_i1, ra_dec_corr_i1)\n",
    "\n",
    "# Median error\n",
    "me_ra_i1 = np.median(ra_error_i1)\n",
    "me_dec_i1 = np.median(dec_error_i1)\n",
    "me_posmax_i1 = np.median(sig_pos_max_i1)\n",
    "me_all_i1 = np.median(overall_err_i1)"
   ]
  },
  {
   "cell_type": "code",
   "execution_count": 14,
   "metadata": {},
   "outputs": [],
   "source": [
    "# ICRF2 catalog\n",
    "[icrf_name_i2, ivs_name_i2, iers_name_i2,\n",
    " ra_i2, dec_i2, ra_error_i2, dec_error_i2, ra_dec_corr_i2, _, _] = read_icrf2(\"../data/icrf2.dat\")\n",
    "\n",
    "# ellipe semi-major axis\n",
    "sig_pos_max_i2 = pos_max_calc(ra_error_i2, dec_error_i2, ra_dec_corr_i2)\n",
    "\n",
    "# overall formal uncertainty\n",
    "overall_err_i2 = overall_err_calc(ra_error_i2, dec_error_i2, ra_dec_corr_i2)\n",
    "\n",
    "# Median error\n",
    "me_ra_i2 = np.median(ra_error_i2)\n",
    "me_dec_i2 = np.median(dec_error_i2)\n",
    "me_posmax_i2 = np.median(sig_pos_max_i2)\n",
    "me_all_i2 = np.median(overall_err_i2)"
   ]
  },
  {
   "cell_type": "code",
   "execution_count": 15,
   "metadata": {},
   "outputs": [],
   "source": [
    "# VLBI solution OPAA\n",
    "[ivs_name_v1, iers_name_v1, ra_v1, dec_v1, ra_error_v1, dec_error_v1,\n",
    " ra_dec_corr_v1, num_ses_v1, num_obs_v1] = read_cat(\"../data/opa-sx-180425-noGA.cat\")\n",
    "\n",
    "# ellipe semi-major axis\n",
    "sig_pos_max_v1 = pos_max_calc(ra_error_v1, dec_error_v1, ra_dec_corr_v1)\n",
    "\n",
    "# overall formal uncertainty\n",
    "overall_err_v1 = overall_err_calc(ra_error_v1, dec_error_v1, ra_dec_corr_v1)\n",
    "\n",
    "# Median error\n",
    "me_ra_v1 = np.median(ra_error_v1)\n",
    "me_dec_v1 = np.median(dec_error_v1)\n",
    "me_posmax_v1 = np.median(sig_pos_max_v1)\n",
    "me_all_v1 = np.median(overall_err_v1)"
   ]
  },
  {
   "cell_type": "code",
   "execution_count": 16,
   "metadata": {},
   "outputs": [],
   "source": [
    "# VLBI solution OPAB\n",
    "[ivs_name_v2, iers_name_v2, ra_v2, dec_v2, ra_error_v2, dec_error_v2,\n",
    " ra_dec_corr_v2, num_ses_v2, num_obs_v2] = read_cat(\"../data/opa-sx-180425-GA00.cat\")\n",
    "\n",
    "# ellipe semi-major axis\n",
    "sig_pos_max_v2 = pos_max_calc(ra_error_v2, dec_error_v2, ra_dec_corr_v2)\n",
    "\n",
    "# overall formal uncertainty\n",
    "overall_err_v2 = overall_err_calc(ra_error_v2, dec_error_v2, ra_dec_corr_v2)\n",
    "\n",
    "# Median error\n",
    "me_ra_v2 = np.median(ra_error_v2)\n",
    "me_dec_v2 = np.median(dec_error_v2)\n",
    "me_posmax_v2 = np.median(sig_pos_max_v2)\n",
    "me_all_v2 = np.median(overall_err_v2)"
   ]
  },
  {
   "cell_type": "code",
   "execution_count": 17,
   "metadata": {},
   "outputs": [],
   "source": [
    "# VLBI solution OPAC\n",
    "[ivs_name_v3, iers_name_v3, ra_v3, dec_v3, ra_error_v3, dec_error_v3,\n",
    " ra_dec_corr_v3, num_ses_v3, num_obs_v3] = read_cat(\"../data/opa-sx-180425-GA15.cat\")\n",
    "\n",
    "# ellipe semi-major axis\n",
    "sig_pos_max_v3 = pos_max_calc(ra_error_v3, dec_error_v3, ra_dec_corr_v3)\n",
    "\n",
    "# overall formal uncertainty\n",
    "overall_err_v3 = overall_err_calc(ra_error_v3, dec_error_v3, ra_dec_corr_v3)\n",
    "\n",
    "# Median error\n",
    "me_ra_v3 = np.median(ra_error_v3)\n",
    "me_dec_v3 = np.median(dec_error_v3)\n",
    "me_posmax_v3 = np.median(sig_pos_max_v3)\n",
    "me_all_v3 = np.median(overall_err_v3)"
   ]
  },
  {
   "cell_type": "code",
   "execution_count": 18,
   "metadata": {},
   "outputs": [],
   "source": [
    "# Load Gaia DR1 data\n",
    "[iers_name_g2, ra_g2, ra_error_g2,\n",
    " dec_g2, dec_error_g2, ra_dec_corr_g2] = read_gaiadr2_iers_position(\"../data/gaiadr2_iers.fits\")\n",
    "\n",
    "# ellipe semi-major axis\n",
    "sig_pos_max_g2 = pos_max_calc(ra_error_g2, dec_error_g2, ra_dec_corr_g2)\n",
    "\n",
    "# overall formal uncertainty\n",
    "overall_err_g2 = overall_err_calc(ra_error_g2, dec_error_g2, ra_dec_corr_g2)"
   ]
  },
  {
   "cell_type": "code",
   "execution_count": 19,
   "metadata": {},
   "outputs": [],
   "source": [
    "# Load Gaia DR2 data\n",
    "[iers_name_g2, ra_g2, ra_error_g2,\n",
    " dec_g2, dec_error_g2, ra_dec_corr_g2] = read_gaiadr2_iers_position(\"../data/gaiadr2_iers.fits\")\n",
    "\n",
    "# ellipe semi-major axis\n",
    "sig_pos_max_g2 = pos_max_calc(ra_error_g2, dec_error_g2, ra_dec_corr_g2)\n",
    "\n",
    "# overall formal uncertainty\n",
    "overall_err_g2 = overall_err_calc(ra_error_g2, dec_error_g2, ra_dec_corr_g2)\n",
    "\n",
    "# Median error\n",
    "me_ra_g2 = np.median(ra_error_g2)\n",
    "me_dec_g2 = np.median(dec_error_g2)\n",
    "me_posmax_g2 = np.median(sig_pos_max_g2)\n",
    "me_all_g2 = np.median(overall_err_g2)"
   ]
  }
 ],
 "metadata": {
  "kernelspec": {
   "display_name": "Python 3",
   "language": "python",
   "name": "python3"
  },
  "language_info": {
   "codemirror_mode": {
    "name": "ipython",
    "version": 3
   },
   "file_extension": ".py",
   "mimetype": "text/x-python",
   "name": "python",
   "nbconvert_exporter": "python",
   "pygments_lexer": "ipython3",
   "version": "3.6.5"
  },
  "latex_envs": {
   "LaTeX_envs_menu_present": true,
   "autoclose": false,
   "autocomplete": true,
   "bibliofile": "biblio.bib",
   "cite_by": "apalike",
   "current_citInitial": 1,
   "eqLabelWithNumbers": true,
   "eqNumInitial": 1,
   "hotkeys": {
    "equation": "Ctrl-E",
    "itemize": "Ctrl-I"
   },
   "labels_anchors": false,
   "latex_user_defs": false,
   "report_style_numbering": false,
   "user_envs_cfg": false
  }
 },
 "nbformat": 4,
 "nbformat_minor": 2
}
